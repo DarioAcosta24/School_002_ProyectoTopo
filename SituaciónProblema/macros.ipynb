{
 "cells": [
  {
   "cell_type": "code",
   "execution_count": 65,
   "metadata": {},
   "outputs": [],
   "source": [
    "import pandas as pd\n",
    "from statsmodels.tsa.stattools import adfuller\n",
    "import plotly.express as px"
   ]
  },
  {
   "cell_type": "code",
   "execution_count": 66,
   "metadata": {},
   "outputs": [
    {
     "data": {
      "text/plain": [
       "'\\ndf_raw = pd.read_excel(\"/Users/emiliano/Documents/Programas/Python/Topología/Fortacero/PIBT_3.xlsx\", skiprows=0)\\ndf_raw = df_raw.loc[:, ~df_raw.iloc[4].isin([\"6 Meses\", \"9 Meses\", \"Anual\"])]\\ndf_raw=df_raw.iloc[[6,4]]\\ndf_raw = df_raw.drop(columns=df_raw.columns[0])\\nnum_columnas = df_raw.shape[1]\\nfechas = pd.date_range(start=\"1993-01-01\", periods=num_columnas, freq=\\'Q\\')\\ndf_raw.iloc[1] = fechas\\ndf_raw.insert(0, \\'Index\\', [\\'PIB\\', \\'Fecha\\'] + [None]*(df_raw.shape[0] - 2))\\ndf_raw=df_raw.T\\ndf_raw.columns = [\\'PIB\\', \\'Fecha\\']\\ndf_raw = df_raw.reset_index(drop=True)\\ndf_raw = df_raw.drop(index=0).reset_index(drop=True)\\ndf_raw.to_csv(\"pib_trimestral_mexico.csv\", index=False)\\n'"
      ]
     },
     "execution_count": 66,
     "metadata": {},
     "output_type": "execute_result"
    }
   ],
   "source": [
    "\"\"\"\n",
    "df_raw = pd.read_excel(\"/Users/emiliano/Documents/Programas/Python/Topología/Fortacero/PIBT_3.xlsx\", skiprows=0)\n",
    "df_raw = df_raw.loc[:, ~df_raw.iloc[4].isin([\"6 Meses\", \"9 Meses\", \"Anual\"])]\n",
    "df_raw=df_raw.iloc[[6,4]]\n",
    "df_raw = df_raw.drop(columns=df_raw.columns[0])\n",
    "num_columnas = df_raw.shape[1]\n",
    "fechas = pd.date_range(start=\"1993-01-01\", periods=num_columnas, freq='Q')\n",
    "df_raw.iloc[1] = fechas\n",
    "df_raw.insert(0, 'Index', ['PIB', 'Fecha'] + [None]*(df_raw.shape[0] - 2))\n",
    "df_raw=df_raw.T\n",
    "df_raw.columns = ['PIB', 'Fecha']\n",
    "df_raw = df_raw.reset_index(drop=True)\n",
    "df_raw = df_raw.drop(index=0).reset_index(drop=True)\n",
    "df_raw.to_csv(\"pib_trimestral_mexico.csv\", index=False)\n",
    "\"\"\""
   ]
  },
  {
   "cell_type": "code",
   "execution_count": 67,
   "metadata": {},
   "outputs": [],
   "source": [
    "pib = pd.read_csv(\"/Users/emiliano/Documents/Programas/Python/Topología/Fortacero/pib_trimestral_mexico.csv\", skiprows=0)"
   ]
  },
  {
   "cell_type": "code",
   "execution_count": 68,
   "metadata": {},
   "outputs": [
    {
     "data": {
      "text/html": [
       "<div>\n",
       "<style scoped>\n",
       "    .dataframe tbody tr th:only-of-type {\n",
       "        vertical-align: middle;\n",
       "    }\n",
       "\n",
       "    .dataframe tbody tr th {\n",
       "        vertical-align: top;\n",
       "    }\n",
       "\n",
       "    .dataframe thead th {\n",
       "        text-align: right;\n",
       "    }\n",
       "</style>\n",
       "<table border=\"1\" class=\"dataframe\">\n",
       "  <thead>\n",
       "    <tr style=\"text-align: right;\">\n",
       "      <th></th>\n",
       "      <th>PIB</th>\n",
       "      <th>Fecha</th>\n",
       "    </tr>\n",
       "  </thead>\n",
       "  <tbody>\n",
       "    <tr>\n",
       "      <th>0</th>\n",
       "      <td>1.591205e+06</td>\n",
       "      <td>1993-03-31 00:00:00</td>\n",
       "    </tr>\n",
       "    <tr>\n",
       "      <th>1</th>\n",
       "      <td>1.645079e+06</td>\n",
       "      <td>1993-06-30 00:00:00</td>\n",
       "    </tr>\n",
       "    <tr>\n",
       "      <th>2</th>\n",
       "      <td>1.662210e+06</td>\n",
       "      <td>1993-09-30 00:00:00</td>\n",
       "    </tr>\n",
       "    <tr>\n",
       "      <th>3</th>\n",
       "      <td>1.708617e+06</td>\n",
       "      <td>1993-12-31 00:00:00</td>\n",
       "    </tr>\n",
       "    <tr>\n",
       "      <th>4</th>\n",
       "      <td>1.750226e+06</td>\n",
       "      <td>1994-03-31 00:00:00</td>\n",
       "    </tr>\n",
       "    <tr>\n",
       "      <th>...</th>\n",
       "      <td>...</td>\n",
       "      <td>...</td>\n",
       "    </tr>\n",
       "    <tr>\n",
       "      <th>123</th>\n",
       "      <td>3.330387e+07</td>\n",
       "      <td>2023-12-31 00:00:00</td>\n",
       "    </tr>\n",
       "    <tr>\n",
       "      <th>124</th>\n",
       "      <td>3.208208e+07</td>\n",
       "      <td>2024-03-31 00:00:00</td>\n",
       "    </tr>\n",
       "    <tr>\n",
       "      <th>125</th>\n",
       "      <td>3.390316e+07</td>\n",
       "      <td>2024-06-30 00:00:00</td>\n",
       "    </tr>\n",
       "    <tr>\n",
       "      <th>126</th>\n",
       "      <td>3.434681e+07</td>\n",
       "      <td>2024-09-30 00:00:00</td>\n",
       "    </tr>\n",
       "    <tr>\n",
       "      <th>127</th>\n",
       "      <td>3.532328e+07</td>\n",
       "      <td>2024-12-31 00:00:00</td>\n",
       "    </tr>\n",
       "  </tbody>\n",
       "</table>\n",
       "<p>128 rows × 2 columns</p>\n",
       "</div>"
      ],
      "text/plain": [
       "              PIB                Fecha\n",
       "0    1.591205e+06  1993-03-31 00:00:00\n",
       "1    1.645079e+06  1993-06-30 00:00:00\n",
       "2    1.662210e+06  1993-09-30 00:00:00\n",
       "3    1.708617e+06  1993-12-31 00:00:00\n",
       "4    1.750226e+06  1994-03-31 00:00:00\n",
       "..            ...                  ...\n",
       "123  3.330387e+07  2023-12-31 00:00:00\n",
       "124  3.208208e+07  2024-03-31 00:00:00\n",
       "125  3.390316e+07  2024-06-30 00:00:00\n",
       "126  3.434681e+07  2024-09-30 00:00:00\n",
       "127  3.532328e+07  2024-12-31 00:00:00\n",
       "\n",
       "[128 rows x 2 columns]"
      ]
     },
     "execution_count": 68,
     "metadata": {},
     "output_type": "execute_result"
    }
   ],
   "source": [
    "pib"
   ]
  },
  {
   "cell_type": "code",
   "execution_count": 69,
   "metadata": {},
   "outputs": [
    {
     "name": "stdout",
     "output_type": "stream",
     "text": [
      "1.0\n"
     ]
    }
   ],
   "source": [
    "serie = pd.to_numeric(pib['PIB'], errors='coerce')\n",
    "resultado = adfuller(serie.dropna())\n",
    "print(resultado[1])"
   ]
  },
  {
   "cell_type": "code",
   "execution_count": 70,
   "metadata": {},
   "outputs": [
    {
     "name": "stdout",
     "output_type": "stream",
     "text": [
      "1.1646367685001895e-06\n"
     ]
    }
   ],
   "source": [
    "pib['PIB'] = pd.to_numeric(pib['PIB'], errors='coerce').diff()\n",
    "serie = pd.to_numeric(pib['PIB'], errors='coerce')\n",
    "resultado = adfuller(serie.dropna())\n",
    "print(resultado[1])"
   ]
  },
  {
   "cell_type": "code",
   "execution_count": 71,
   "metadata": {},
   "outputs": [
    {
     "data": {
      "text/plain": [
       "count    1.270000e+02\n",
       "mean     2.656069e+05\n",
       "std      6.913339e+05\n",
       "min     -4.530290e+06\n",
       "25%      3.589245e+04\n",
       "50%      2.195403e+05\n",
       "75%      4.901014e+05\n",
       "max      3.468157e+06\n",
       "Name: PIB, dtype: float64"
      ]
     },
     "execution_count": 71,
     "metadata": {},
     "output_type": "execute_result"
    }
   ],
   "source": [
    "pib['PIB'].describe()"
   ]
  },
  {
   "cell_type": "code",
   "execution_count": 72,
   "metadata": {},
   "outputs": [
    {
     "data": {
      "application/vnd.plotly.v1+json": {
       "config": {
        "plotlyServerURL": "https://plot.ly"
       },
       "data": [
        {
         "alignmentgroup": "True",
         "bingroup": "x",
         "hovertemplate": "PIB=%{x}<br>count=%{y}<extra></extra>",
         "legendgroup": "",
         "marker": {
          "color": "#636efa",
          "opacity": 0.7,
          "pattern": {
           "shape": ""
          }
         },
         "name": "",
         "nbinsx": 30,
         "offsetgroup": "",
         "orientation": "v",
         "showlegend": false,
         "type": "histogram",
         "x": [
          null,
          53873.658000000054,
          17131.012000000104,
          46407.41500000004,
          41608.86599999992,
          114142.581,
          13732.964999999851,
          103306.82200000016,
          144811.86699999985,
          230287.88599999994,
          147644.6660000002,
          270534.591,
          239521.1170000001,
          171338.49899999984,
          124219.62900000019,
          317357.645,
          128940.63199999975,
          302809.08900000015,
          144305.07300000032,
          358358.7179999994,
          202533.10699999984,
          233001.94400000013,
          184305.9500000002,
          248049.9620000003,
          232440.20799999963,
          272445.08299999963,
          227814.06700000074,
          219540.3339999998,
          338894.7910000002,
          237831.52499999944,
          208536.11700000055,
          53595.112999999896,
          99760.09299999941,
          139464.1280000005,
          42413.11199999973,
          -35933.21100000013,
          -156786.03199999966,
          631965.6799999997,
          30176.029000000097,
          117005.56099999975,
          5040.427000000142,
          160221.47900000028,
          -43540.10900000017,
          270020.3599999994,
          250458.41500000097,
          551197.8670000006,
          29934.995999999344,
          356927.00400000066,
          -218771.3660000004,
          609938.6399999987,
          2079.8820000011474,
          364097.561999999,
          124424.41000000015,
          676956.4100000001,
          18748.78299999982,
          209611.70800000057,
          -25125.997999999672,
          591050.966,
          107565.12800000049,
          475481.2809999995,
          -306998.1160000004,
          956170.2039999999,
          -114214.43899999931,
          -120681.79700000025,
          -848234.2200000007,
          295973.37399999984,
          424186.9240000006,
          576373.5,
          -107635.46700000018,
          489134.1060000006,
          195034.527999999,
          575729.1730000004,
          -129191.52199999988,
          432992.29700000025,
          417596.49200000055,
          977354.118999999,
          -214758.73699999973,
          280728.16000000015,
          196559.1280000005,
          466233.9930000007,
          -627097.3920000009,
          424315.09699999914,
          137242.05000000075,
          587938.4160000011,
          -165413.62000000104,
          637995.5240000002,
          177265.0949999988,
          665102.9970000014,
          -495056.694000002,
          697968.2970000021,
          379935.0489999987,
          502473.3289999999,
          -428265.99599999934,
          1015469.0379999988,
          364783.3139999993,
          1092535.1850000024,
          -91217.3440000005,
          427803.90199999884,
          73340.99599999934,
          1021813.4580000006,
          -264613.07599999756,
          955289.3469999991,
          125706.41899999976,
          863085.6220000014,
          -580256.2740000002,
          491068.6889999993,
          146437.14699999988,
          539597.4160000011,
          -392753.22200000286,
          -4530289.963999998,
          3468156.9519999996,
          1682572.9619999975,
          -288762.74099999666,
          972896.8649999984,
          -22923.612999998033,
          1241565.7909999974,
          106988.49200000241,
          1482399.441999998,
          289925.1429999992,
          1197326.0100000016,
          -493358.68400000036,
          1148983.9279999994,
          511673.16000000015,
          1206964.9019999988,
          -1221793.3509999998,
          1821075.9169999994,
          443651.84400000423,
          976469.1319999993
         ],
         "xaxis": "x",
         "yaxis": "y"
        },
        {
         "alignmentgroup": "True",
         "hovertemplate": "PIB=%{x}<extra></extra>",
         "legendgroup": "",
         "marker": {
          "color": "#636efa"
         },
         "name": "",
         "notched": true,
         "offsetgroup": "",
         "showlegend": false,
         "type": "box",
         "x": [
          null,
          53873.658000000054,
          17131.012000000104,
          46407.41500000004,
          41608.86599999992,
          114142.581,
          13732.964999999851,
          103306.82200000016,
          144811.86699999985,
          230287.88599999994,
          147644.6660000002,
          270534.591,
          239521.1170000001,
          171338.49899999984,
          124219.62900000019,
          317357.645,
          128940.63199999975,
          302809.08900000015,
          144305.07300000032,
          358358.7179999994,
          202533.10699999984,
          233001.94400000013,
          184305.9500000002,
          248049.9620000003,
          232440.20799999963,
          272445.08299999963,
          227814.06700000074,
          219540.3339999998,
          338894.7910000002,
          237831.52499999944,
          208536.11700000055,
          53595.112999999896,
          99760.09299999941,
          139464.1280000005,
          42413.11199999973,
          -35933.21100000013,
          -156786.03199999966,
          631965.6799999997,
          30176.029000000097,
          117005.56099999975,
          5040.427000000142,
          160221.47900000028,
          -43540.10900000017,
          270020.3599999994,
          250458.41500000097,
          551197.8670000006,
          29934.995999999344,
          356927.00400000066,
          -218771.3660000004,
          609938.6399999987,
          2079.8820000011474,
          364097.561999999,
          124424.41000000015,
          676956.4100000001,
          18748.78299999982,
          209611.70800000057,
          -25125.997999999672,
          591050.966,
          107565.12800000049,
          475481.2809999995,
          -306998.1160000004,
          956170.2039999999,
          -114214.43899999931,
          -120681.79700000025,
          -848234.2200000007,
          295973.37399999984,
          424186.9240000006,
          576373.5,
          -107635.46700000018,
          489134.1060000006,
          195034.527999999,
          575729.1730000004,
          -129191.52199999988,
          432992.29700000025,
          417596.49200000055,
          977354.118999999,
          -214758.73699999973,
          280728.16000000015,
          196559.1280000005,
          466233.9930000007,
          -627097.3920000009,
          424315.09699999914,
          137242.05000000075,
          587938.4160000011,
          -165413.62000000104,
          637995.5240000002,
          177265.0949999988,
          665102.9970000014,
          -495056.694000002,
          697968.2970000021,
          379935.0489999987,
          502473.3289999999,
          -428265.99599999934,
          1015469.0379999988,
          364783.3139999993,
          1092535.1850000024,
          -91217.3440000005,
          427803.90199999884,
          73340.99599999934,
          1021813.4580000006,
          -264613.07599999756,
          955289.3469999991,
          125706.41899999976,
          863085.6220000014,
          -580256.2740000002,
          491068.6889999993,
          146437.14699999988,
          539597.4160000011,
          -392753.22200000286,
          -4530289.963999998,
          3468156.9519999996,
          1682572.9619999975,
          -288762.74099999666,
          972896.8649999984,
          -22923.612999998033,
          1241565.7909999974,
          106988.49200000241,
          1482399.441999998,
          289925.1429999992,
          1197326.0100000016,
          -493358.68400000036,
          1148983.9279999994,
          511673.16000000015,
          1206964.9019999988,
          -1221793.3509999998,
          1821075.9169999994,
          443651.84400000423,
          976469.1319999993
         ],
         "xaxis": "x2",
         "yaxis": "y2"
        }
       ],
       "layout": {
        "barmode": "relative",
        "legend": {
         "tracegroupgap": 0
        },
        "template": {
         "data": {
          "bar": [
           {
            "error_x": {
             "color": "#2a3f5f"
            },
            "error_y": {
             "color": "#2a3f5f"
            },
            "marker": {
             "line": {
              "color": "#E5ECF6",
              "width": 0.5
             },
             "pattern": {
              "fillmode": "overlay",
              "size": 10,
              "solidity": 0.2
             }
            },
            "type": "bar"
           }
          ],
          "barpolar": [
           {
            "marker": {
             "line": {
              "color": "#E5ECF6",
              "width": 0.5
             },
             "pattern": {
              "fillmode": "overlay",
              "size": 10,
              "solidity": 0.2
             }
            },
            "type": "barpolar"
           }
          ],
          "carpet": [
           {
            "aaxis": {
             "endlinecolor": "#2a3f5f",
             "gridcolor": "white",
             "linecolor": "white",
             "minorgridcolor": "white",
             "startlinecolor": "#2a3f5f"
            },
            "baxis": {
             "endlinecolor": "#2a3f5f",
             "gridcolor": "white",
             "linecolor": "white",
             "minorgridcolor": "white",
             "startlinecolor": "#2a3f5f"
            },
            "type": "carpet"
           }
          ],
          "choropleth": [
           {
            "colorbar": {
             "outlinewidth": 0,
             "ticks": ""
            },
            "type": "choropleth"
           }
          ],
          "contour": [
           {
            "colorbar": {
             "outlinewidth": 0,
             "ticks": ""
            },
            "colorscale": [
             [
              0,
              "#0d0887"
             ],
             [
              0.1111111111111111,
              "#46039f"
             ],
             [
              0.2222222222222222,
              "#7201a8"
             ],
             [
              0.3333333333333333,
              "#9c179e"
             ],
             [
              0.4444444444444444,
              "#bd3786"
             ],
             [
              0.5555555555555556,
              "#d8576b"
             ],
             [
              0.6666666666666666,
              "#ed7953"
             ],
             [
              0.7777777777777778,
              "#fb9f3a"
             ],
             [
              0.8888888888888888,
              "#fdca26"
             ],
             [
              1,
              "#f0f921"
             ]
            ],
            "type": "contour"
           }
          ],
          "contourcarpet": [
           {
            "colorbar": {
             "outlinewidth": 0,
             "ticks": ""
            },
            "type": "contourcarpet"
           }
          ],
          "heatmap": [
           {
            "colorbar": {
             "outlinewidth": 0,
             "ticks": ""
            },
            "colorscale": [
             [
              0,
              "#0d0887"
             ],
             [
              0.1111111111111111,
              "#46039f"
             ],
             [
              0.2222222222222222,
              "#7201a8"
             ],
             [
              0.3333333333333333,
              "#9c179e"
             ],
             [
              0.4444444444444444,
              "#bd3786"
             ],
             [
              0.5555555555555556,
              "#d8576b"
             ],
             [
              0.6666666666666666,
              "#ed7953"
             ],
             [
              0.7777777777777778,
              "#fb9f3a"
             ],
             [
              0.8888888888888888,
              "#fdca26"
             ],
             [
              1,
              "#f0f921"
             ]
            ],
            "type": "heatmap"
           }
          ],
          "heatmapgl": [
           {
            "colorbar": {
             "outlinewidth": 0,
             "ticks": ""
            },
            "colorscale": [
             [
              0,
              "#0d0887"
             ],
             [
              0.1111111111111111,
              "#46039f"
             ],
             [
              0.2222222222222222,
              "#7201a8"
             ],
             [
              0.3333333333333333,
              "#9c179e"
             ],
             [
              0.4444444444444444,
              "#bd3786"
             ],
             [
              0.5555555555555556,
              "#d8576b"
             ],
             [
              0.6666666666666666,
              "#ed7953"
             ],
             [
              0.7777777777777778,
              "#fb9f3a"
             ],
             [
              0.8888888888888888,
              "#fdca26"
             ],
             [
              1,
              "#f0f921"
             ]
            ],
            "type": "heatmapgl"
           }
          ],
          "histogram": [
           {
            "marker": {
             "pattern": {
              "fillmode": "overlay",
              "size": 10,
              "solidity": 0.2
             }
            },
            "type": "histogram"
           }
          ],
          "histogram2d": [
           {
            "colorbar": {
             "outlinewidth": 0,
             "ticks": ""
            },
            "colorscale": [
             [
              0,
              "#0d0887"
             ],
             [
              0.1111111111111111,
              "#46039f"
             ],
             [
              0.2222222222222222,
              "#7201a8"
             ],
             [
              0.3333333333333333,
              "#9c179e"
             ],
             [
              0.4444444444444444,
              "#bd3786"
             ],
             [
              0.5555555555555556,
              "#d8576b"
             ],
             [
              0.6666666666666666,
              "#ed7953"
             ],
             [
              0.7777777777777778,
              "#fb9f3a"
             ],
             [
              0.8888888888888888,
              "#fdca26"
             ],
             [
              1,
              "#f0f921"
             ]
            ],
            "type": "histogram2d"
           }
          ],
          "histogram2dcontour": [
           {
            "colorbar": {
             "outlinewidth": 0,
             "ticks": ""
            },
            "colorscale": [
             [
              0,
              "#0d0887"
             ],
             [
              0.1111111111111111,
              "#46039f"
             ],
             [
              0.2222222222222222,
              "#7201a8"
             ],
             [
              0.3333333333333333,
              "#9c179e"
             ],
             [
              0.4444444444444444,
              "#bd3786"
             ],
             [
              0.5555555555555556,
              "#d8576b"
             ],
             [
              0.6666666666666666,
              "#ed7953"
             ],
             [
              0.7777777777777778,
              "#fb9f3a"
             ],
             [
              0.8888888888888888,
              "#fdca26"
             ],
             [
              1,
              "#f0f921"
             ]
            ],
            "type": "histogram2dcontour"
           }
          ],
          "mesh3d": [
           {
            "colorbar": {
             "outlinewidth": 0,
             "ticks": ""
            },
            "type": "mesh3d"
           }
          ],
          "parcoords": [
           {
            "line": {
             "colorbar": {
              "outlinewidth": 0,
              "ticks": ""
             }
            },
            "type": "parcoords"
           }
          ],
          "pie": [
           {
            "automargin": true,
            "type": "pie"
           }
          ],
          "scatter": [
           {
            "fillpattern": {
             "fillmode": "overlay",
             "size": 10,
             "solidity": 0.2
            },
            "type": "scatter"
           }
          ],
          "scatter3d": [
           {
            "line": {
             "colorbar": {
              "outlinewidth": 0,
              "ticks": ""
             }
            },
            "marker": {
             "colorbar": {
              "outlinewidth": 0,
              "ticks": ""
             }
            },
            "type": "scatter3d"
           }
          ],
          "scattercarpet": [
           {
            "marker": {
             "colorbar": {
              "outlinewidth": 0,
              "ticks": ""
             }
            },
            "type": "scattercarpet"
           }
          ],
          "scattergeo": [
           {
            "marker": {
             "colorbar": {
              "outlinewidth": 0,
              "ticks": ""
             }
            },
            "type": "scattergeo"
           }
          ],
          "scattergl": [
           {
            "marker": {
             "colorbar": {
              "outlinewidth": 0,
              "ticks": ""
             }
            },
            "type": "scattergl"
           }
          ],
          "scattermapbox": [
           {
            "marker": {
             "colorbar": {
              "outlinewidth": 0,
              "ticks": ""
             }
            },
            "type": "scattermapbox"
           }
          ],
          "scatterpolar": [
           {
            "marker": {
             "colorbar": {
              "outlinewidth": 0,
              "ticks": ""
             }
            },
            "type": "scatterpolar"
           }
          ],
          "scatterpolargl": [
           {
            "marker": {
             "colorbar": {
              "outlinewidth": 0,
              "ticks": ""
             }
            },
            "type": "scatterpolargl"
           }
          ],
          "scatterternary": [
           {
            "marker": {
             "colorbar": {
              "outlinewidth": 0,
              "ticks": ""
             }
            },
            "type": "scatterternary"
           }
          ],
          "surface": [
           {
            "colorbar": {
             "outlinewidth": 0,
             "ticks": ""
            },
            "colorscale": [
             [
              0,
              "#0d0887"
             ],
             [
              0.1111111111111111,
              "#46039f"
             ],
             [
              0.2222222222222222,
              "#7201a8"
             ],
             [
              0.3333333333333333,
              "#9c179e"
             ],
             [
              0.4444444444444444,
              "#bd3786"
             ],
             [
              0.5555555555555556,
              "#d8576b"
             ],
             [
              0.6666666666666666,
              "#ed7953"
             ],
             [
              0.7777777777777778,
              "#fb9f3a"
             ],
             [
              0.8888888888888888,
              "#fdca26"
             ],
             [
              1,
              "#f0f921"
             ]
            ],
            "type": "surface"
           }
          ],
          "table": [
           {
            "cells": {
             "fill": {
              "color": "#EBF0F8"
             },
             "line": {
              "color": "white"
             }
            },
            "header": {
             "fill": {
              "color": "#C8D4E3"
             },
             "line": {
              "color": "white"
             }
            },
            "type": "table"
           }
          ]
         },
         "layout": {
          "annotationdefaults": {
           "arrowcolor": "#2a3f5f",
           "arrowhead": 0,
           "arrowwidth": 1
          },
          "autotypenumbers": "strict",
          "coloraxis": {
           "colorbar": {
            "outlinewidth": 0,
            "ticks": ""
           }
          },
          "colorscale": {
           "diverging": [
            [
             0,
             "#8e0152"
            ],
            [
             0.1,
             "#c51b7d"
            ],
            [
             0.2,
             "#de77ae"
            ],
            [
             0.3,
             "#f1b6da"
            ],
            [
             0.4,
             "#fde0ef"
            ],
            [
             0.5,
             "#f7f7f7"
            ],
            [
             0.6,
             "#e6f5d0"
            ],
            [
             0.7,
             "#b8e186"
            ],
            [
             0.8,
             "#7fbc41"
            ],
            [
             0.9,
             "#4d9221"
            ],
            [
             1,
             "#276419"
            ]
           ],
           "sequential": [
            [
             0,
             "#0d0887"
            ],
            [
             0.1111111111111111,
             "#46039f"
            ],
            [
             0.2222222222222222,
             "#7201a8"
            ],
            [
             0.3333333333333333,
             "#9c179e"
            ],
            [
             0.4444444444444444,
             "#bd3786"
            ],
            [
             0.5555555555555556,
             "#d8576b"
            ],
            [
             0.6666666666666666,
             "#ed7953"
            ],
            [
             0.7777777777777778,
             "#fb9f3a"
            ],
            [
             0.8888888888888888,
             "#fdca26"
            ],
            [
             1,
             "#f0f921"
            ]
           ],
           "sequentialminus": [
            [
             0,
             "#0d0887"
            ],
            [
             0.1111111111111111,
             "#46039f"
            ],
            [
             0.2222222222222222,
             "#7201a8"
            ],
            [
             0.3333333333333333,
             "#9c179e"
            ],
            [
             0.4444444444444444,
             "#bd3786"
            ],
            [
             0.5555555555555556,
             "#d8576b"
            ],
            [
             0.6666666666666666,
             "#ed7953"
            ],
            [
             0.7777777777777778,
             "#fb9f3a"
            ],
            [
             0.8888888888888888,
             "#fdca26"
            ],
            [
             1,
             "#f0f921"
            ]
           ]
          },
          "colorway": [
           "#636efa",
           "#EF553B",
           "#00cc96",
           "#ab63fa",
           "#FFA15A",
           "#19d3f3",
           "#FF6692",
           "#B6E880",
           "#FF97FF",
           "#FECB52"
          ],
          "font": {
           "color": "#2a3f5f"
          },
          "geo": {
           "bgcolor": "white",
           "lakecolor": "white",
           "landcolor": "#E5ECF6",
           "showlakes": true,
           "showland": true,
           "subunitcolor": "white"
          },
          "hoverlabel": {
           "align": "left"
          },
          "hovermode": "closest",
          "mapbox": {
           "style": "light"
          },
          "paper_bgcolor": "white",
          "plot_bgcolor": "#E5ECF6",
          "polar": {
           "angularaxis": {
            "gridcolor": "white",
            "linecolor": "white",
            "ticks": ""
           },
           "bgcolor": "#E5ECF6",
           "radialaxis": {
            "gridcolor": "white",
            "linecolor": "white",
            "ticks": ""
           }
          },
          "scene": {
           "xaxis": {
            "backgroundcolor": "#E5ECF6",
            "gridcolor": "white",
            "gridwidth": 2,
            "linecolor": "white",
            "showbackground": true,
            "ticks": "",
            "zerolinecolor": "white"
           },
           "yaxis": {
            "backgroundcolor": "#E5ECF6",
            "gridcolor": "white",
            "gridwidth": 2,
            "linecolor": "white",
            "showbackground": true,
            "ticks": "",
            "zerolinecolor": "white"
           },
           "zaxis": {
            "backgroundcolor": "#E5ECF6",
            "gridcolor": "white",
            "gridwidth": 2,
            "linecolor": "white",
            "showbackground": true,
            "ticks": "",
            "zerolinecolor": "white"
           }
          },
          "shapedefaults": {
           "line": {
            "color": "#2a3f5f"
           }
          },
          "ternary": {
           "aaxis": {
            "gridcolor": "white",
            "linecolor": "white",
            "ticks": ""
           },
           "baxis": {
            "gridcolor": "white",
            "linecolor": "white",
            "ticks": ""
           },
           "bgcolor": "#E5ECF6",
           "caxis": {
            "gridcolor": "white",
            "linecolor": "white",
            "ticks": ""
           }
          },
          "title": {
           "x": 0.05
          },
          "xaxis": {
           "automargin": true,
           "gridcolor": "white",
           "linecolor": "white",
           "ticks": "",
           "title": {
            "standoff": 15
           },
           "zerolinecolor": "white",
           "zerolinewidth": 2
          },
          "yaxis": {
           "automargin": true,
           "gridcolor": "white",
           "linecolor": "white",
           "ticks": "",
           "title": {
            "standoff": 15
           },
           "zerolinecolor": "white",
           "zerolinewidth": 2
          }
         }
        },
        "title": {
         "text": "Distribución del PIB"
        },
        "xaxis": {
         "anchor": "y",
         "domain": [
          0,
          1
         ],
         "title": {
          "text": "PIB"
         }
        },
        "xaxis2": {
         "anchor": "y2",
         "domain": [
          0,
          1
         ],
         "matches": "x",
         "showgrid": true,
         "showticklabels": false
        },
        "yaxis": {
         "anchor": "x",
         "domain": [
          0,
          0.8316
         ],
         "title": {
          "text": "count"
         }
        },
        "yaxis2": {
         "anchor": "x2",
         "domain": [
          0.8416,
          1
         ],
         "matches": "y2",
         "showgrid": false,
         "showline": false,
         "showticklabels": false,
         "ticks": ""
        }
       }
      }
     },
     "metadata": {},
     "output_type": "display_data"
    }
   ],
   "source": [
    "fig = px.histogram(pib, x=\"PIB\", nbins=30, marginal=\"box\", opacity=0.7, title=\"Distribución del PIB\")\n",
    "fig.show()"
   ]
  }
 ],
 "metadata": {
  "kernelspec": {
   "display_name": "Python 3",
   "language": "python",
   "name": "python3"
  },
  "language_info": {
   "codemirror_mode": {
    "name": "ipython",
    "version": 3
   },
   "file_extension": ".py",
   "mimetype": "text/x-python",
   "name": "python",
   "nbconvert_exporter": "python",
   "pygments_lexer": "ipython3",
   "version": "3.11.3"
  },
  "orig_nbformat": 4
 },
 "nbformat": 4,
 "nbformat_minor": 2
}
